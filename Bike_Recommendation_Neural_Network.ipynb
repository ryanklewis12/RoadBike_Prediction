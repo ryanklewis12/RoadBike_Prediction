{
 "cells": [
  {
   "cell_type": "markdown",
   "metadata": {},
   "source": [
    "Road Bike Recommendation Algorithm"
   ]
  },
  {
   "cell_type": "code",
   "execution_count": 23,
   "metadata": {},
   "outputs": [],
   "source": [
    "import tensorflow as tf\n",
    "from tensorflow.keras.layers import Input, Dense, Embedding, LSTM, concatenate\n",
    "from tensorflow.keras.models import Model\n",
    "from tensorflow.keras.preprocessing.text import Tokenizer\n",
    "from tensorflow.keras.preprocessing.sequence import pad_sequences\n",
    "import numpy as np\n",
    "import pandas as pd\n",
    "from sklearn.preprocessing import LabelEncoder\n",
    "from sklearn.model_selection import train_test_split"
   ]
  },
  {
   "cell_type": "code",
   "execution_count": 24,
   "metadata": {},
   "outputs": [
    {
     "data": {
      "text/html": [
       "<div>\n",
       "<style scoped>\n",
       "    .dataframe tbody tr th:only-of-type {\n",
       "        vertical-align: middle;\n",
       "    }\n",
       "\n",
       "    .dataframe tbody tr th {\n",
       "        vertical-align: top;\n",
       "    }\n",
       "\n",
       "    .dataframe thead th {\n",
       "        text-align: right;\n",
       "    }\n",
       "</style>\n",
       "<table border=\"1\" class=\"dataframe\">\n",
       "  <thead>\n",
       "    <tr style=\"text-align: right;\">\n",
       "      <th></th>\n",
       "      <th>Article Content</th>\n",
       "      <th>label</th>\n",
       "      <th>title</th>\n",
       "      <th>price</th>\n",
       "      <th>average_rating</th>\n",
       "      <th>total_ratings</th>\n",
       "      <th>feature_bullets</th>\n",
       "      <th>reviews</th>\n",
       "    </tr>\n",
       "  </thead>\n",
       "  <tbody>\n",
       "    <tr>\n",
       "      <th>0</th>\n",
       "      <td>Tommaso Forcellais by far one of the best deal...</td>\n",
       "      <td>Tommaso Forcella</td>\n",
       "      <td>Tommaso Forcella Endurance Aluminum Road Bike,...</td>\n",
       "      <td>899.</td>\n",
       "      <td>4.2 out of 5 stars</td>\n",
       "      <td>152 ratings</td>\n",
       "      <td>About this itemQUALITY CYCLING PRODUCTS SINCE ...</td>\n",
       "      <td>[Great value bike for the equipment you get on...</td>\n",
       "    </tr>\n",
       "    <tr>\n",
       "      <th>1</th>\n",
       "      <td>Tommaso Imola is an elegant entry-level road b...</td>\n",
       "      <td>Tommaso Imola</td>\n",
       "      <td>Tommaso Imola Endurance Aluminum Road Bike, Sh...</td>\n",
       "      <td>799.</td>\n",
       "      <td>4.2 out of 5 stars</td>\n",
       "      <td>325 ratings</td>\n",
       "      <td>About this itemQUALITY CYCLING PRODUCTS SINCE ...</td>\n",
       "      <td>[So far the bike has been an absolute blast to...</td>\n",
       "    </tr>\n",
       "    <tr>\n",
       "      <th>2</th>\n",
       "      <td>Schwinn Men’s Volare 1400 700c is the latest a...</td>\n",
       "      <td>Schwinn Volare 1400</td>\n",
       "      <td>Schwinn Volare Hybrid Sports Road Bike, Men an...</td>\n",
       "      <td>799.</td>\n",
       "      <td>4.0 out of 5 stars</td>\n",
       "      <td>416 ratings</td>\n",
       "      <td>About this itemQuick and agile riding with the...</td>\n",
       "      <td>[I needed a bike to commute to work because my...</td>\n",
       "    </tr>\n",
       "    <tr>\n",
       "      <th>3</th>\n",
       "      <td>‍Schwinn hasn’t always had an easy road, but i...</td>\n",
       "      <td>Schwinn Phocus 1600</td>\n",
       "      <td>Schwinn Phocus Adult Road Bike, Mens and Women...</td>\n",
       "      <td>799.</td>\n",
       "      <td>3.9 out of 5 stars</td>\n",
       "      <td>239 ratings</td>\n",
       "      <td>About this itemAluminum road frame paired with...</td>\n",
       "      <td>[For the price, this is an excellent entry-lev...</td>\n",
       "    </tr>\n",
       "  </tbody>\n",
       "</table>\n",
       "</div>"
      ],
      "text/plain": [
       "                                     Article Content                label  \\\n",
       "0  Tommaso Forcellais by far one of the best deal...     Tommaso Forcella   \n",
       "1  Tommaso Imola is an elegant entry-level road b...        Tommaso Imola   \n",
       "2  Schwinn Men’s Volare 1400 700c is the latest a...  Schwinn Volare 1400   \n",
       "3  ‍Schwinn hasn’t always had an easy road, but i...  Schwinn Phocus 1600   \n",
       "\n",
       "                                               title price  \\\n",
       "0  Tommaso Forcella Endurance Aluminum Road Bike,...  899.   \n",
       "1  Tommaso Imola Endurance Aluminum Road Bike, Sh...  799.   \n",
       "2  Schwinn Volare Hybrid Sports Road Bike, Men an...  799.   \n",
       "3  Schwinn Phocus Adult Road Bike, Mens and Women...  799.   \n",
       "\n",
       "       average_rating total_ratings  \\\n",
       "0  4.2 out of 5 stars   152 ratings   \n",
       "1  4.2 out of 5 stars   325 ratings   \n",
       "2  4.0 out of 5 stars   416 ratings   \n",
       "3  3.9 out of 5 stars   239 ratings   \n",
       "\n",
       "                                     feature_bullets  \\\n",
       "0  About this itemQUALITY CYCLING PRODUCTS SINCE ...   \n",
       "1  About this itemQUALITY CYCLING PRODUCTS SINCE ...   \n",
       "2  About this itemQuick and agile riding with the...   \n",
       "3  About this itemAluminum road frame paired with...   \n",
       "\n",
       "                                             reviews  \n",
       "0  [Great value bike for the equipment you get on...  \n",
       "1  [So far the bike has been an absolute blast to...  \n",
       "2  [I needed a bike to commute to work because my...  \n",
       "3  [For the price, this is an excellent entry-lev...  "
      ]
     },
     "execution_count": 24,
     "metadata": {},
     "output_type": "execute_result"
    }
   ],
   "source": [
    "from web_scraping import scrape_data\n",
    "\n",
    "# Run the scraping function\n",
    "data_df = scrape_data()\n",
    "\n",
    "# Display the DataFrame\n",
    "data_df.head()"
   ]
  },
  {
   "cell_type": "markdown",
   "metadata": {},
   "source": [
    "Reformat the Different Data Components"
   ]
  },
  {
   "cell_type": "code",
   "execution_count": 39,
   "metadata": {},
   "outputs": [],
   "source": [
    "import re\n",
    "\n",
    "# Ensure columns are strings\n",
    "data_df['average_rating'] = data_df['average_rating'].astype(str)\n",
    "data_df['total_ratings'] = data_df['total_ratings'].astype(str)\n",
    "\n",
    "# Clean average_rating column\n",
    "data_df['average_rating'] = data_df['average_rating'].apply(lambda x: re.search(r'\\d+\\.\\d+', x).group() if isinstance(x, str) else x)\n",
    "\n",
    "# Clean total_ratings column\n",
    "data_df['total_ratings'] = data_df['total_ratings'].apply(lambda x: re.search(r'\\d+', x).group() if isinstance(x, str) else x)\n",
    "\n",
    "# Convert total_ratings to integer\n",
    "data_df['total_ratings'] = data_df['total_ratings'].astype(int)\n",
    "\n",
    "data_df['price'] = data_df['price'].astype(str)\n",
    "\n",
    "# Clean price column by removing trailing period and convert to integer\n",
    "data_df['price'] = data_df['price'].str.rstrip('.').astype(int)\n",
    "\n",
    "# Ensure columns are strings\n",
    "data_df['Article Content'] = data_df['Article Content'].astype(str)\n",
    "data_df['reviews'] = data_df['reviews'].astype(str)\n",
    "\n",
    "# Concatenate columns\n",
    "data_df['description'] = data_df['Article Content'] + \" \" + data_df['reviews']\n"
   ]
  },
  {
   "cell_type": "markdown",
   "metadata": {},
   "source": [
    "Tokenization and Vector Data Creation"
   ]
  },
  {
   "cell_type": "code",
   "execution_count": 40,
   "metadata": {},
   "outputs": [
    {
     "name": "stdout",
     "output_type": "stream",
     "text": [
      "                                     Article Content                label  \\\n",
      "0  Tommaso Forcellais by far one of the best deal...     Tommaso Forcella   \n",
      "1  Tommaso Imola is an elegant entry-level road b...        Tommaso Imola   \n",
      "2  Schwinn Men’s Volare 1400 700c is the latest a...  Schwinn Volare 1400   \n",
      "3  ‍Schwinn hasn’t always had an easy road, but i...  Schwinn Phocus 1600   \n",
      "\n",
      "                                               title  price average_rating  \\\n",
      "0  Tommaso Forcella Endurance Aluminum Road Bike,...    899            4.2   \n",
      "1  Tommaso Imola Endurance Aluminum Road Bike, Sh...    799            4.2   \n",
      "2  Schwinn Volare Hybrid Sports Road Bike, Men an...    799            4.0   \n",
      "3  Schwinn Phocus Adult Road Bike, Mens and Women...    799            3.9   \n",
      "\n",
      "   total_ratings                                    feature_bullets  \\\n",
      "0            152  About this itemQUALITY CYCLING PRODUCTS SINCE ...   \n",
      "1            325  About this itemQUALITY CYCLING PRODUCTS SINCE ...   \n",
      "2            416  About this itemQuick and agile riding with the...   \n",
      "3            239  About this itemAluminum road frame paired with...   \n",
      "\n",
      "                                             reviews  \\\n",
      "0  ['Great value bike for the equipment you get o...   \n",
      "1  ['So far the bike has been an absolute blast t...   \n",
      "2  ['I needed a bike to commute to work because m...   \n",
      "3  [\"For the price, this is an excellent entry-le...   \n",
      "\n",
      "                                         description  \n",
      "0  Tommaso Forcellais by far one of the best deal...  \n",
      "1  Tommaso Imola is an elegant entry-level road b...  \n",
      "2  Schwinn Men’s Volare 1400 700c is the latest a...  \n",
      "3  ‍Schwinn hasn’t always had an easy road, but i...  \n"
     ]
    }
   ],
   "source": [
    "print(data_df)\n",
    "\n",
    "# Tokenize and pad text data\n",
    "tokenizer = Tokenizer(num_words=100000)\n",
    "tokenizer.fit_on_texts(data_df['description'])\n",
    "sequences = tokenizer.texts_to_sequences(data_df['description'])\n",
    "max_text_length = max(len(seq) for seq in sequences)\n",
    "text_data_padded = pad_sequences(sequences, maxlen=max_text_length)\n",
    "\n",
    "\n",
    "# Encode labels\n",
    "label_encoder = LabelEncoder()\n",
    "label_data = label_encoder.fit_transform(data_df['label'])\n",
    "num_bikes = len(label_encoder.classes_)\n",
    "\n",
    "\n",
    "# Extract numerical data\n",
    "numerical_data = data_df[['price', 'average_rating', 'total_ratings']].values\n",
    "\n",
    "# Numerical Input\n",
    "numerical_input = Input(shape=(3,), name='numerical_input')\n",
    "x_num = Dense(64, activation='relu')(numerical_input)\n",
    "x_num = Dense(32, activation='relu')(x_num)\n",
    "\n",
    "# Text Input (Description)\n",
    "vocab_size = 100000\n",
    "text_input = Input(shape=(max_text_length,), name='text_input')\n",
    "x_text = Embedding(input_dim=vocab_size, output_dim=128)(text_input)\n",
    "x_text = LSTM(128)(x_text)\n",
    "\n",
    "# Concatenate\n",
    "x = concatenate([x_num, x_text])\n",
    "x = Dense(64, activation='relu')(x)\n",
    "output = Dense(num_bikes, activation='softmax')(x)\n"
   ]
  },
  {
   "cell_type": "markdown",
   "metadata": {},
   "source": [
    "Creating Model Inputs, Training, and Testing"
   ]
  },
  {
   "cell_type": "code",
   "execution_count": 44,
   "metadata": {},
   "outputs": [
    {
     "name": "stdout",
     "output_type": "stream",
     "text": [
      "Epoch 1/15\n",
      "\u001b[1m1/1\u001b[0m \u001b[32m━━━━━━━━━━━━━━━━━━━━\u001b[0m\u001b[37m\u001b[0m \u001b[1m8s\u001b[0m 8s/step - accuracy: 0.6667 - loss: 1.4492 - val_accuracy: 0.0000e+00 - val_loss: 34.4157\n",
      "Epoch 2/15\n",
      "\u001b[1m1/1\u001b[0m \u001b[32m━━━━━━━━━━━━━━━━━━━━\u001b[0m\u001b[37m\u001b[0m \u001b[1m3s\u001b[0m 3s/step - accuracy: 1.0000 - loss: 0.0957 - val_accuracy: 0.0000e+00 - val_loss: 36.8477\n",
      "Epoch 3/15\n",
      "\u001b[1m1/1\u001b[0m \u001b[32m━━━━━━━━━━━━━━━━━━━━\u001b[0m\u001b[37m\u001b[0m \u001b[1m3s\u001b[0m 3s/step - accuracy: 0.6667 - loss: 1.5647 - val_accuracy: 0.0000e+00 - val_loss: 35.1497\n",
      "Epoch 4/15\n",
      "\u001b[1m1/1\u001b[0m \u001b[32m━━━━━━━━━━━━━━━━━━━━\u001b[0m\u001b[37m\u001b[0m \u001b[1m3s\u001b[0m 3s/step - accuracy: 0.6667 - loss: 0.4768 - val_accuracy: 0.0000e+00 - val_loss: 32.1875\n",
      "Epoch 5/15\n",
      "\u001b[1m1/1\u001b[0m \u001b[32m━━━━━━━━━━━━━━━━━━━━\u001b[0m\u001b[37m\u001b[0m \u001b[1m3s\u001b[0m 3s/step - accuracy: 1.0000 - loss: 0.0239 - val_accuracy: 0.0000e+00 - val_loss: 32.2466\n",
      "Epoch 6/15\n",
      "\u001b[1m1/1\u001b[0m \u001b[32m━━━━━━━━━━━━━━━━━━━━\u001b[0m\u001b[37m\u001b[0m \u001b[1m3s\u001b[0m 3s/step - accuracy: 1.0000 - loss: 0.0196 - val_accuracy: 0.0000e+00 - val_loss: 32.7846\n",
      "Epoch 7/15\n",
      "\u001b[1m1/1\u001b[0m \u001b[32m━━━━━━━━━━━━━━━━━━━━\u001b[0m\u001b[37m\u001b[0m \u001b[1m3s\u001b[0m 3s/step - accuracy: 1.0000 - loss: 0.0110 - val_accuracy: 0.0000e+00 - val_loss: 33.6950\n",
      "Epoch 8/15\n",
      "\u001b[1m1/1\u001b[0m \u001b[32m━━━━━━━━━━━━━━━━━━━━\u001b[0m\u001b[37m\u001b[0m \u001b[1m3s\u001b[0m 3s/step - accuracy: 1.0000 - loss: 0.0250 - val_accuracy: 0.0000e+00 - val_loss: 34.6231\n",
      "Epoch 9/15\n",
      "\u001b[1m1/1\u001b[0m \u001b[32m━━━━━━━━━━━━━━━━━━━━\u001b[0m\u001b[37m\u001b[0m \u001b[1m3s\u001b[0m 3s/step - accuracy: 1.0000 - loss: 0.0763 - val_accuracy: 0.0000e+00 - val_loss: 34.9337\n",
      "Epoch 10/15\n",
      "\u001b[1m1/1\u001b[0m \u001b[32m━━━━━━━━━━━━━━━━━━━━\u001b[0m\u001b[37m\u001b[0m \u001b[1m3s\u001b[0m 3s/step - accuracy: 1.0000 - loss: 0.0962 - val_accuracy: 0.0000e+00 - val_loss: 34.5612\n",
      "Epoch 11/15\n",
      "\u001b[1m1/1\u001b[0m \u001b[32m━━━━━━━━━━━━━━━━━━━━\u001b[0m\u001b[37m\u001b[0m \u001b[1m3s\u001b[0m 3s/step - accuracy: 1.0000 - loss: 0.0489 - val_accuracy: 0.0000e+00 - val_loss: 33.8644\n",
      "Epoch 12/15\n",
      "\u001b[1m1/1\u001b[0m \u001b[32m━━━━━━━━━━━━━━━━━━━━\u001b[0m\u001b[37m\u001b[0m \u001b[1m3s\u001b[0m 3s/step - accuracy: 1.0000 - loss: 0.0231 - val_accuracy: 0.0000e+00 - val_loss: 33.0967\n",
      "Epoch 13/15\n",
      "\u001b[1m1/1\u001b[0m \u001b[32m━━━━━━━━━━━━━━━━━━━━\u001b[0m\u001b[37m\u001b[0m \u001b[1m3s\u001b[0m 3s/step - accuracy: 1.0000 - loss: 0.0167 - val_accuracy: 0.0000e+00 - val_loss: 32.3728\n",
      "Epoch 14/15\n",
      "\u001b[1m1/1\u001b[0m \u001b[32m━━━━━━━━━━━━━━━━━━━━\u001b[0m\u001b[37m\u001b[0m \u001b[1m5s\u001b[0m 5s/step - accuracy: 1.0000 - loss: 0.0103 - val_accuracy: 0.0000e+00 - val_loss: 31.7755\n",
      "Epoch 15/15\n",
      "\u001b[1m1/1\u001b[0m \u001b[32m━━━━━━━━━━━━━━━━━━━━\u001b[0m\u001b[37m\u001b[0m \u001b[1m3s\u001b[0m 3s/step - accuracy: 1.0000 - loss: 0.0050 - val_accuracy: 0.0000e+00 - val_loss: 31.3459\n",
      "\u001b[1m1/1\u001b[0m \u001b[32m━━━━━━━━━━━━━━━━━━━━\u001b[0m\u001b[37m\u001b[0m \u001b[1m0s\u001b[0m 268ms/step - accuracy: 0.0000e+00 - loss: 31.3459\n",
      "Validation Loss: 31.345895767211914\n",
      "Validation Accuracy: 0.0\n"
     ]
    }
   ],
   "source": [
    "# Create Model\n",
    "model = Model(inputs=[numerical_input, text_input], outputs=output)\n",
    "model.compile(optimizer='adam', loss='sparse_categorical_crossentropy', metrics=['accuracy'])\n",
    "\n",
    "# Split data into training and validation sets\n",
    "numerical_train, numerical_val, text_train, text_val, label_train, label_val = train_test_split(\n",
    "    numerical_data, text_data_padded, label_data, test_size=0.25, random_state=42)\n",
    "\n",
    "# Setting necessary data types for the Tensor model fitting\n",
    "numerical_train = numerical_train.astype('float64')\n",
    "numerical_val = numerical_val.astype('float64')\n",
    "label_train = label_train.astype('float64')\n",
    "label_val = label_val.astype('float64')\n",
    "\n",
    "# Train the model\n",
    "history = model.fit(\n",
    "    [numerical_train, text_train], label_train,\n",
    "    validation_data=([numerical_val, text_val], label_val),\n",
    "    epochs=15, batch_size=32\n",
    ")\n",
    "\n",
    "# Evaluate the model\n",
    "loss, accuracy = model.evaluate([numerical_val, text_val], label_val)\n",
    "print(f'Validation Loss: {loss}')\n",
    "print(f'Validation Accuracy: {accuracy}')"
   ]
  },
  {
   "cell_type": "markdown",
   "metadata": {},
   "source": [
    "User Input Fields for Model to Give a Recommendation"
   ]
  },
  {
   "cell_type": "code",
   "execution_count": 45,
   "metadata": {},
   "outputs": [
    {
     "name": "stdout",
     "output_type": "stream",
     "text": [
      "\u001b[1m1/1\u001b[0m \u001b[32m━━━━━━━━━━━━━━━━━━━━\u001b[0m\u001b[37m\u001b[0m \u001b[1m1s\u001b[0m 554ms/step\n",
      "Recommended Bike: Tommaso Forcella\n"
     ]
    }
   ],
   "source": [
    "# Example user input\n",
    "user_numerical_input = np.array([[1100, 4.3, 180]])\n",
    "user_text_input = [\"Lightweight and affordable\"]\n",
    "user_text_sequences = tokenizer.texts_to_sequences(user_text_input)\n",
    "user_text_padded = pad_sequences(user_text_sequences, maxlen=max_text_length)\n",
    "\n",
    "# Predict\n",
    "predictions = model.predict([user_numerical_input, user_text_padded])\n",
    "predicted_bike_index = np.argmax(predictions, axis=1)\n",
    "predicted_bike_name = label_encoder.inverse_transform(predicted_bike_index)\n",
    "\n",
    "print(f'Recommended Bike: {predicted_bike_name[0]}')"
   ]
  }
 ],
 "metadata": {
  "kernelspec": {
   "display_name": "base",
   "language": "python",
   "name": "python3"
  },
  "language_info": {
   "codemirror_mode": {
    "name": "ipython",
    "version": 3
   },
   "file_extension": ".py",
   "mimetype": "text/x-python",
   "name": "python",
   "nbconvert_exporter": "python",
   "pygments_lexer": "ipython3",
   "version": "3.11.5"
  }
 },
 "nbformat": 4,
 "nbformat_minor": 2
}
